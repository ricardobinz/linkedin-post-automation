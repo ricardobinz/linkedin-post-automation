{
  "cells": [
    {
      "cell_type": "markdown",
      "metadata": {},
      "source": [
        "# Validate \"Generate Post\" Backend Flow\n",
        "\n",
        "This notebook exercises the FastAPI backend's `POST /posts/generate` flow and basic retrieval endpoints.\n",
        "\n",
        "It assumes the API is running locally at `http://localhost:4000` (see `backend-py/README.md`). If you set an `API_KEY` in `.env`, the notebook will include it automatically from your environment.\n"
      ]
    },
    {
      "cell_type": "code",
      "execution_count": 1,
      "metadata": {},
      "outputs": [
        {
          "name": "stdout",
          "output_type": "stream",
          "text": [
            "BASE_URL = http://localhost:4000\n",
            "Using API_KEY = no\n"
          ]
        }
      ],
      "source": [
        "import os\n",
        "import requests\n",
        "from pprint import pprint\n",
        "\n",
        "BASE_URL = os.getenv('LPG_BASE_URL', 'http://localhost:4000')\n",
        "API_KEY = os.getenv('API_KEY', '')\n",
        "HEADERS = { 'Content-Type': 'application/json' }\n",
        "if API_KEY:\n",
        "    HEADERS['x-api-key'] = API_KEY\n",
        "\n",
        "def show(title, obj):\n",
        "    print(f'\\n=== {title} ===')\n",
        "    pprint(obj)\n",
        "\n",
        "print('BASE_URL =', BASE_URL)\n",
        "print('Using API_KEY =', 'yes' if API_KEY else 'no')\n"
      ]
    },
    {
      "cell_type": "markdown",
      "metadata": {},
      "source": [
        "## 1) Health check\n",
        "Call `GET /health` to ensure the API is reachable.\n"
      ]
    },
    {
      "cell_type": "code",
      "execution_count": 2,
      "metadata": {},
      "outputs": [
        {
          "name": "stdout",
          "output_type": "stream",
          "text": [
            "\n",
            "=== Health ===\n",
            "{'status': 'ok'}\n"
          ]
        }
      ],
      "source": [
        "r = requests.get(f'{BASE_URL}/health', headers=HEADERS, timeout=10)\n",
        "r.raise_for_status()\n",
        "show('Health', r.json())\n"
      ]
    },
    {
      "cell_type": "markdown",
      "metadata": {},
      "source": [
        "## 2) Generate a draft\n",
        "Call `POST /posts/generate` with an optional topic. The backend will use the ReAct agent (Anthropic + Perplexity tool) if configured, otherwise gracefully fall back to the stub.\n"
      ]
    },
    {
      "cell_type": "code",
      "execution_count": null,
      "metadata": {},
      "outputs": [
        {
          "name": "stdout",
          "output_type": "stream",
          "text": [
            "Status: 201\n",
            "\n",
            "=== Generated Post ===\n",
            "{'createdAt': '2025-10-01T19:42:36.164655',\n",
            " 'deletedAt': None,\n",
            " 'id': 'bed0cb7b-7c80-4f29-9268-49f108cb0787',\n",
            " 'idea': 'AI-powered time management strategies',\n",
            " 'imagePrompt': 'A split-screen image showing a stressed professional with a '\n",
            "                'cluttered desk on one side, and a relaxed professional with '\n",
            "                'an organized workspace and holographic AI assistant on the '\n",
            "                'other.',\n",
            " 'imageUrl': 'https://picsum.photos/seed/a-split-screen-image-sho-lg/800/450',\n",
            " 'linkedinPostUrl': None,\n",
            " 'name': 'LinkedIn Post Generator',\n",
            " 'postedAt': None,\n",
            " 'status': 'draft',\n",
            " 'text': 'Discover how AI can revolutionize your daily schedule:\\n'\n",
            "         '\\n'\n",
            "         '1. Smart calendar optimization\\n'\n",
            "         '2. Personalized task prioritization\\n'\n",
            "         '3. Automated time tracking\\n'\n",
            "         '4. Intelligent meeting scheduling\\n'\n",
            "         '\\n'\n",
            "         'Implement these AI-powered strategies to reclaim hours in your '\n",
            "         \"workweek. What's your favorite productivity hack? Share below! \"\n",
            "         '#AIProductivity #TimeManagement',\n",
            " 'title': 'Boost Your Productivity with AI-Driven Time Management',\n",
            " 'updatedAt': '2025-10-01T19:42:36.164655',\n",
            " 'validatedAt': None}\n"
          ]
        }
      ],
      "source": [
        "payload = {}  # You can change or set to {}\n",
        "r = requests.post(f'{BASE_URL}/posts/generate', json=payload, headers=HEADERS, timeout=90)\n",
        "print('Status:', r.status_code)\n",
        "data = r.json()\n",
        "show('Generated Post', data)\n",
        "post_id = data.get('id')\n",
        "assert post_id, 'No id returned'\n",
        "\n",
        "# Basic shape assertions\n",
        "required_keys = ['id','name','idea','title','text','imageUrl','status','createdAt','updatedAt']\n",
        "missing = [k for k in required_keys if k not in data]\n",
        "assert not missing, f'Missing keys in response: {missing}'\n",
        "assert data['status'] == 'draft', f\"Expected status 'draft', got {data['status']}\"\n"
      ]
    },
    {
      "cell_type": "markdown",
      "metadata": {},
      "source": [
        "## 3) List drafts\n",
        "Confirm the draft is persisted by calling `GET /posts?status=draft`.\n"
      ]
    },
    {
      "cell_type": "code",
      "execution_count": null,
      "metadata": {},
      "outputs": [],
      "source": [
        "r = requests.get(f'{BASE_URL}/posts', params={'status':'draft'}, headers=HEADERS, timeout=10)\n",
        "r.raise_for_status()\n",
        "drafts = r.json()\n",
        "print('Draft count:', len(drafts))\n",
        "# Show the first 1-2 drafts\n",
        "show('First drafts', drafts[:2])\n",
        "assert any(p.get('id') == post_id for p in drafts), 'Generated post not found in drafts list'\n"
      ]
    },
    {
      "cell_type": "markdown",
      "metadata": {},
      "source": [
        "## 4) Get by ID\n",
        "Verify we can retrieve the same draft by its `id` using `GET /posts/{id}`.\n"
      ]
    },
    {
      "cell_type": "code",
      "execution_count": null,
      "metadata": {},
      "outputs": [],
      "source": [
        "r = requests.get(f'{BASE_URL}/posts/{post_id}', headers=HEADERS, timeout=10)\n",
        "r.raise_for_status()\n",
        "by_id = r.json()\n",
        "show('Post by ID', by_id)\n",
        "assert by_id.get('id') == post_id, 'Mismatched id'\n"
      ]
    },
    {
      "cell_type": "markdown",
      "metadata": {},
      "source": [
        "---\n",
        "### Notes\n",
        "- If you configured `API_KEY` in `backend-py/.env`, export it in your shell so this notebook picks it up.\n",
        "- Without API keys, the backend still works with stubs (LLM, research, image).\n",
        "- To run multiple generations, re-run the generation cell or wrap it in a loop.\n"
      ]
    }
  ],
  "metadata": {
    "kernelspec": {
      "display_name": "Python 3",
      "language": "python",
      "name": "python3"
    },
    "language_info": {
      "codemirror_mode": {
        "name": "ipython",
        "version": 3
      },
      "file_extension": ".py",
      "mimetype": "text/x-python",
      "name": "python",
      "nbconvert_exporter": "python",
      "pygments_lexer": "ipython3",
      "version": "3.13.7"
    }
  },
  "nbformat": 4,
  "nbformat_minor": 5
}
