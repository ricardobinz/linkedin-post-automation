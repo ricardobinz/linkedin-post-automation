{
  "cells": [
    {
      "cell_type": "markdown",
      "metadata": {},
      "source": [
        "# Validate and Publish Backend Flow\n\n",
        "This notebook validates the FastAPI backend's validation and publishing steps for a LinkedIn post.\n\n",
        "It will:\n",
        "- Find an existing draft or create a new one (`POST /posts/generate`).\n",
        "- Validate the post (`POST /posts/{id}/validate`).\n",
        "- Publish the post (`POST /posts/{id}/publish`).\n\n",
        "Assumes the API is running at `http://localhost:4000`. If you set an `API_KEY` in `.env`, the notebook will include it automatically from your environment."
      ]
    },
    {
      "cell_type": "code",
      "execution_count": null,
      "metadata": {},
      "outputs": [],
      "source": [
        "import os\n",
        "import requests\n",
        "from pprint import pprint\n",
        "\n",
        "BASE_URL = os.getenv('LPG_BASE_URL', 'http://localhost:4000')\n",
        "API_KEY = os.getenv('API_KEY', '')\n",
        "HEADERS = { 'Content-Type': 'application/json' }\n",
        "if API_KEY:\n",
        "    HEADERS['x-api-key'] = API_KEY\n",
        "\n",
        "def show(title, obj):\n",
        "    print(f'\\n=== {title} ===')\n",
        "    pprint(obj)\n",
        "\n",
        "print('BASE_URL =', BASE_URL)\n",
        "print('Using API_KEY =', 'yes' if API_KEY else 'no')\n"
      ]
    },
    {
      "cell_type": "markdown",
      "metadata": {},
      "source": [
        "## 1) Health check\n",
        "Ensure the API is reachable."
      ]
    },
    {
      "cell_type": "code",
      "execution_count": null,
      "metadata": {},
      "outputs": [],
      "source": [
        "r = requests.get(f'{BASE_URL}/health', headers=HEADERS, timeout=10)\n",
        "r.raise_for_status()\n",
        "show('Health', r.json())\n"
      ]
    },
    {
      "cell_type": "markdown",
      "metadata": {},
      "source": [
        "## 2) Find or create a draft\n",
        "We first try to find a draft via `GET /posts?status=draft`. If none exist, we create one via `POST /posts/generate`."
      ]
    },
    {
      "cell_type": "code",
      "execution_count": null,
      "metadata": {},
      "outputs": [],
      "source": [
        "# Try to find an existing draft\n",
        "r = requests.get(f'{BASE_URL}/posts', params={'status':'draft'}, headers=HEADERS, timeout=20)\n",
        "r.raise_for_status()\n",
        "drafts = r.json()\n",
        "if drafts:\n",
        "    draft = drafts[0]\n",
        "else:\n",
        "    # Create a new draft\n",
        "    payload = {}  # You can set a topic: {'topic': 'AI productivity'}\n",
        "    r = requests.post(f'{BASE_URL}/posts/generate', json=payload, headers=HEADERS, timeout=120)\n",
        "    r.raise_for_status()\n",
        "    draft = r.json()\n",
        "\n",
        "show('Draft', draft)\n",
        "post_id = draft.get('id')\n",
        "assert post_id, 'No id on draft'\n",
        "assert draft.get('status') == 'draft', f\"Expected draft, got {draft.get('status')}\"\n"
      ]
    },
    {
      "cell_type": "markdown",
      "metadata": {},
      "source": [
        "## 3) Validate the post\n",
        "Call `POST /posts/{id}/validate`. This should set `status` to `validated` and set `validatedAt`."
      ]
    },
    {
      "cell_type": "code",
      "execution_count": null,
      "metadata": {},
      "outputs": [],
      "source": [
        "r = requests.post(f'{BASE_URL}/posts/{post_id}/validate', headers=HEADERS, timeout=20)\n",
        "r.raise_for_status()\n",
        "validated = r.json()\n",
        "show('Validated', validated)\n",
        "assert validated.get('status') == 'validated', f\"Expected validated, got {validated.get('status')}\"\n",
        "assert validated.get('validatedAt'), 'validatedAt missing'\n"
      ]
    },
    {
      "cell_type": "markdown",
      "metadata": {},
      "source": [
        "## 4) Publish the post\n",
        "Call `POST /posts/{id}/publish`.\n\n",
        "- If LinkedIn credentials are configured, the backend will publish to LinkedIn and return the real URL.\n",
        "- Otherwise, it returns a stub URL and still marks the post as `posted`."
      ]
    },
    {
      "cell_type": "code",
      "execution_count": null,
      "metadata": {},
      "outputs": [],
      "source": [
        "r = requests.post(f'{BASE_URL}/posts/{post_id}/publish', headers=HEADERS, timeout=60)\n",
        "r.raise_for_status()\n",
        "posted = r.json()\n",
        "show('Posted', posted)\n",
        "assert posted.get('status') == 'posted', f\"Expected posted, got {posted.get('status')}\"\n",
        "assert posted.get('postedAt'), 'postedAt missing'\n",
        "# linkedinPostUrl may be stubbed or real\n",
        "assert posted.get('linkedinPostUrl'), 'linkedinPostUrl missing'\n"
      ]
    },
    {
      "cell_type": "markdown",
      "metadata": {},
      "source": [
        "---\n",
        "### Notes\n",
        "- To test a fully real publish, set `LINKEDIN_ACCESS_TOKEN` and an author or organization URN in `.env`.\n",
        "- Without credentials, the backend uses a deterministic stub URL and still sets `status` to `posted`.\n",
        "- You can re-run cells to validate/publish another draft."
      ]
    }
  ],
  "metadata": {
    "kernelspec": {
      "display_name": "Python 3",
      "language": "python",
      "name": "python3"
    },
    "language_info": {
      "name": "python",
      "pygments_lexer": "ipython3",
      "version": "3"
    }
  },
  "nbformat": 4,
  "nbformat_minor": 5
}
